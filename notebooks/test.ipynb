{
 "cells": [
  {
   "cell_type": "code",
   "execution_count": 1,
   "id": "bc756819",
   "metadata": {},
   "outputs": [
    {
     "name": "stdout",
     "output_type": "stream",
     "text": [
      "/Users/cshatto/Projects/fire-recovery\n"
     ]
    }
   ],
   "source": [
    "import os \n",
    "# change wd\n",
    "os.chdir('..')\n",
    "!pwd"
   ]
  },
  {
   "cell_type": "code",
   "execution_count": 2,
   "id": "bc8f4a2a",
   "metadata": {},
   "outputs": [],
   "source": [
    "import geopandas as gpd\n"
   ]
  },
  {
   "cell_type": "code",
   "execution_count": 6,
   "id": "8a1f623a",
   "metadata": {},
   "outputs": [],
   "source": [
    "gdf = gpd.read_file('data/output/burn_areas.geojson')"
   ]
  },
  {
   "cell_type": "code",
   "execution_count": 7,
   "id": "c7ecd07e",
   "metadata": {},
   "outputs": [
    {
     "data": {
      "text/html": [
       "<div>\n",
       "<style scoped>\n",
       "    .dataframe tbody tr th:only-of-type {\n",
       "        vertical-align: middle;\n",
       "    }\n",
       "\n",
       "    .dataframe tbody tr th {\n",
       "        vertical-align: top;\n",
       "    }\n",
       "\n",
       "    .dataframe thead th {\n",
       "        text-align: right;\n",
       "    }\n",
       "</style>\n",
       "<table border=\"1\" class=\"dataframe\">\n",
       "  <thead>\n",
       "    <tr style=\"text-align: right;\">\n",
       "      <th></th>\n",
       "      <th>geometry</th>\n",
       "    </tr>\n",
       "  </thead>\n",
       "  <tbody>\n",
       "    <tr>\n",
       "      <th>0</th>\n",
       "      <td>POLYGON ((-8.063 41.482, -8.063 41.481, -8.062...</td>\n",
       "    </tr>\n",
       "    <tr>\n",
       "      <th>1</th>\n",
       "      <td>POLYGON ((-8.096 41.479, -8.096 41.479, -8.095...</td>\n",
       "    </tr>\n",
       "    <tr>\n",
       "      <th>2</th>\n",
       "      <td>POLYGON ((-8.225 41.474, -8.225 41.473, -8.225...</td>\n",
       "    </tr>\n",
       "    <tr>\n",
       "      <th>3</th>\n",
       "      <td>POLYGON ((-8.198 41.474, -8.198 41.473, -8.197...</td>\n",
       "    </tr>\n",
       "    <tr>\n",
       "      <th>4</th>\n",
       "      <td>POLYGON ((-8.202 41.472, -8.202 41.472, -8.201...</td>\n",
       "    </tr>\n",
       "    <tr>\n",
       "      <th>...</th>\n",
       "      <td>...</td>\n",
       "    </tr>\n",
       "    <tr>\n",
       "      <th>827</th>\n",
       "      <td>POLYGON ((-7.894 41.068, -7.894 41.067, -7.893...</td>\n",
       "    </tr>\n",
       "    <tr>\n",
       "      <th>828</th>\n",
       "      <td>POLYGON ((-8.006 41.072, -8.006 41.071, -8.008...</td>\n",
       "    </tr>\n",
       "    <tr>\n",
       "      <th>829</th>\n",
       "      <td>POLYGON ((-7.974 41.097, -7.974 41.096, -7.977...</td>\n",
       "    </tr>\n",
       "    <tr>\n",
       "      <th>830</th>\n",
       "      <td>POLYGON ((-7.848 41.13, -7.848 41.13, -7.847 4...</td>\n",
       "    </tr>\n",
       "    <tr>\n",
       "      <th>831</th>\n",
       "      <td>POLYGON ((-8.038 41.086, -8.038 41.085, -8.038...</td>\n",
       "    </tr>\n",
       "  </tbody>\n",
       "</table>\n",
       "<p>832 rows × 1 columns</p>\n",
       "</div>"
      ],
      "text/plain": [
       "                                              geometry\n",
       "0    POLYGON ((-8.063 41.482, -8.063 41.481, -8.062...\n",
       "1    POLYGON ((-8.096 41.479, -8.096 41.479, -8.095...\n",
       "2    POLYGON ((-8.225 41.474, -8.225 41.473, -8.225...\n",
       "3    POLYGON ((-8.198 41.474, -8.198 41.473, -8.197...\n",
       "4    POLYGON ((-8.202 41.472, -8.202 41.472, -8.201...\n",
       "..                                                 ...\n",
       "827  POLYGON ((-7.894 41.068, -7.894 41.067, -7.893...\n",
       "828  POLYGON ((-8.006 41.072, -8.006 41.071, -8.008...\n",
       "829  POLYGON ((-7.974 41.097, -7.974 41.096, -7.977...\n",
       "830  POLYGON ((-7.848 41.13, -7.848 41.13, -7.847 4...\n",
       "831  POLYGON ((-8.038 41.086, -8.038 41.085, -8.038...\n",
       "\n",
       "[832 rows x 1 columns]"
      ]
     },
     "execution_count": 7,
     "metadata": {},
     "output_type": "execute_result"
    }
   ],
   "source": [
    "gdf"
   ]
  },
  {
   "cell_type": "code",
   "execution_count": null,
   "id": "eaf7e92c",
   "metadata": {},
   "outputs": [],
   "source": [
    "from dotenv import load_dotenv\n",
    "import os\n",
    "import requests\n",
    "\n",
    "def get_cdse_token():\n",
    "    \"\"\"Generate and return an access token for Copernicus Data Space Ecosystem.\"\"\"\n",
    "    load_dotenv('.env.local')\n",
    "    copernicus_user = os.getenv('COPERNICUS_USER')\n",
    "    copernicus_password = os.getenv('COPERNICUS_PASS')\n",
    "    \n",
    "    if not copernicus_user or not copernicus_password:\n",
    "        raise ValueError(\"Missing COPERNICUS_USER or COPERNICUS_PASS in .env.local\")\n",
    "    \n",
    "    data = {\n",
    "        \"client_id\": \"cdse-public\",\n",
    "        \"username\": copernicus_user,\n",
    "        \"password\": copernicus_password,\n",
    "        \"grant_type\": \"password\"\n",
    "    }\n",
    "    \n",
    "    try:\n",
    "        response = requests.post(\n",
    "            \"https://identity.dataspace.copernicus.eu/auth/realms/CDSE/protocol/openid-connect/token\",\n",
    "            data=data\n",
    "        )\n",
    "        response.raise_for_status()\n",
    "        return response.json()[\"access_token\"]\n",
    "    except requests.exceptions.RequestException as e:\n",
    "        raise Exception(f\"Failed to obtain CDSE access token: {str(e)}\")"
   ]
  },
  {
   "cell_type": "code",
   "execution_count": 9,
   "id": "3b9ec24b",
   "metadata": {},
   "outputs": [
    {
     "name": "stdout",
     "output_type": "stream",
     "text": [
      "Authentication failed: Missing COPERNICUS_USER or COPERNICUS_PASSWORD in .env.local\n"
     ]
    },
    {
     "ename": "ValueError",
     "evalue": "Missing COPERNICUS_USER or COPERNICUS_PASSWORD in .env.local",
     "output_type": "error",
     "traceback": [
      "\u001b[31m---------------------------------------------------------------------------\u001b[39m",
      "\u001b[31mValueError\u001b[39m                                Traceback (most recent call last)",
      "\u001b[36mCell\u001b[39m\u001b[36m \u001b[39m\u001b[32mIn[9]\u001b[39m\u001b[32m, line 28\u001b[39m\n\u001b[32m     26\u001b[39m base_url = \u001b[33m\"\u001b[39m\u001b[33mhttps://catalogue.dataspace.copernicus.eu/odata/v1/\u001b[39m\u001b[33m\"\u001b[39m\n\u001b[32m     27\u001b[39m \u001b[38;5;28;01mtry\u001b[39;00m:\n\u001b[32m---> \u001b[39m\u001b[32m28\u001b[39m     token = \u001b[43mget_cdse_token\u001b[49m\u001b[43m(\u001b[49m\u001b[43m)\u001b[49m\n\u001b[32m     29\u001b[39m     \u001b[38;5;28mprint\u001b[39m(\u001b[33m\"\u001b[39m\u001b[33mAuthentication successful!\u001b[39m\u001b[33m\"\u001b[39m)\n\u001b[32m     30\u001b[39m \u001b[38;5;28;01mexcept\u001b[39;00m \u001b[38;5;167;01mException\u001b[39;00m \u001b[38;5;28;01mas\u001b[39;00m e:\n",
      "\u001b[36mCell\u001b[39m\u001b[36m \u001b[39m\u001b[32mIn[8]\u001b[39m\u001b[32m, line 12\u001b[39m, in \u001b[36mget_cdse_token\u001b[39m\u001b[34m()\u001b[39m\n\u001b[32m      9\u001b[39m copernicus_password = os.getenv(\u001b[33m'\u001b[39m\u001b[33mCOPERNICUS_PASSWORD\u001b[39m\u001b[33m'\u001b[39m)\n\u001b[32m     11\u001b[39m \u001b[38;5;28;01mif\u001b[39;00m \u001b[38;5;129;01mnot\u001b[39;00m copernicus_user \u001b[38;5;129;01mor\u001b[39;00m \u001b[38;5;129;01mnot\u001b[39;00m copernicus_password:\n\u001b[32m---> \u001b[39m\u001b[32m12\u001b[39m     \u001b[38;5;28;01mraise\u001b[39;00m \u001b[38;5;167;01mValueError\u001b[39;00m(\u001b[33m\"\u001b[39m\u001b[33mMissing COPERNICUS_USER or COPERNICUS_PASSWORD in .env.local\u001b[39m\u001b[33m\"\u001b[39m)\n\u001b[32m     14\u001b[39m data = {\n\u001b[32m     15\u001b[39m     \u001b[33m\"\u001b[39m\u001b[33mclient_id\u001b[39m\u001b[33m\"\u001b[39m: \u001b[33m\"\u001b[39m\u001b[33mcdse-public\u001b[39m\u001b[33m\"\u001b[39m,\n\u001b[32m     16\u001b[39m     \u001b[33m\"\u001b[39m\u001b[33musername\u001b[39m\u001b[33m\"\u001b[39m: copernicus_user,\n\u001b[32m     17\u001b[39m     \u001b[33m\"\u001b[39m\u001b[33mpassword\u001b[39m\u001b[33m\"\u001b[39m: copernicus_password,\n\u001b[32m     18\u001b[39m     \u001b[33m\"\u001b[39m\u001b[33mgrant_type\u001b[39m\u001b[33m\"\u001b[39m: \u001b[33m\"\u001b[39m\u001b[33mpassword\u001b[39m\u001b[33m\"\u001b[39m\n\u001b[32m     19\u001b[39m }\n\u001b[32m     21\u001b[39m \u001b[38;5;28;01mtry\u001b[39;00m:\n",
      "\u001b[31mValueError\u001b[39m: Missing COPERNICUS_USER or COPERNICUS_PASSWORD in .env.local"
     ]
    }
   ],
   "source": [
    "# Import libraries\n",
    "import requests\n",
    "import pandas as pd\n",
    "from shapely.geometry import box\n",
    "\n",
    "# Define AOI (Lisbon, Portugal, in WGS84)\n",
    "minx, miny, maxx, maxy = -9.3, 38.6, -9.0, 38.9\n",
    "aoi = box(minx, miny, maxx, maxy).wkt\n",
    "\n",
    "# Query parameters\n",
    "start_date = \"2023-01-01T00:00:00.000Z\"\n",
    "end_date = \"2023-12-31T23:59:59.999Z\"\n",
    "collection = \"SENTINEL-2\"\n",
    "product_type = \"S2MSI2A\"\n",
    "cloud_cover = \"[0 TO 20]\"\n",
    "\n",
    "# OData query\n",
    "query = (\n",
    "    f\"Products?$filter=Collection/Name eq '{collection}' \"\n",
    "    f\"and Attributes/OData.CSC.DoubleAttribute/any(d:d/Name eq 'cloudCover' and d/Value {cloud_cover}) \"\n",
    "    f\"and ContentDate/Start gt {start_date} and ContentDate/Start lt {end_date} \"\n",
    "    f\"and OData.CSC.Intersects(area=geography'{aoi}')\"\n",
    ")\n",
    "\n",
    "# Query API\n",
    "base_url = \"https://catalogue.dataspace.copernicus.eu/odata/v1/\"\n",
    "try:\n",
    "    token = get_cdse_token()\n",
    "    print(\"Authentication successful!\")\n",
    "except Exception as e:\n",
    "    print(f\"Authentication failed: {e}\")\n",
    "    raise\n",
    "\n",
    "headers = {\"Authorization\": f\"Bearer {token}\"}\n",
    "response = requests.get(f\"{base_url}{query}\", headers=headers)\n",
    "response.raise_for_status()\n",
    "\n",
    "# Display results\n",
    "products = response.json()[\"value\"]\n",
    "if not products:\n",
    "    print(\"No products found.\")\n",
    "else:\n",
    "    df = pd.DataFrame([\n",
    "        {\n",
    "            \"Name\": p[\"Name\"],\n",
    "            \"Date\": p[\"ContentDate\"][\"Start\"],\n",
    "            \"CloudCover\": next((attr[\"Value\"] for attr in p[\"Attributes\"] if attr[\"Name\"] == \"cloudCover\"), None),\n",
    "            \"ProductID\": p[\"Id\"]\n",
    "        }\n",
    "        for p in products\n",
    "    ])\n",
    "    print(f\"Found {len(products)} products:\")\n",
    "    display(df)"
   ]
  }
 ],
 "metadata": {
  "kernelspec": {
   "display_name": "venv",
   "language": "python",
   "name": "python3"
  },
  "language_info": {
   "codemirror_mode": {
    "name": "ipython",
    "version": 3
   },
   "file_extension": ".py",
   "mimetype": "text/x-python",
   "name": "python",
   "nbconvert_exporter": "python",
   "pygments_lexer": "ipython3",
   "version": "3.13.3"
  }
 },
 "nbformat": 4,
 "nbformat_minor": 5
}
